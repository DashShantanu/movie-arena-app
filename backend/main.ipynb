{
 "cells": [
  {
   "cell_type": "code",
   "execution_count": 3,
   "metadata": {},
   "outputs": [],
   "source": [
    "import numpy as np\n",
    "import pandas as pd\n",
    "from flask import Flask, render_template, request\n",
    "from sklearn.feature_extraction.text import CountVectorizer\n",
    "from sklearn.metrics.pairwise import cosine_similarity\n",
    "import json\n",
    "import bs4 as bs\n",
    "import urllib.request\n",
    "import pickle\n",
    "import requests"
   ]
  },
  {
   "cell_type": "code",
   "execution_count": 5,
   "metadata": {},
   "outputs": [],
   "source": [
    "# load the nlp model and tfidf vectorizer from disk\n",
    "clf = pickle.load(open('nlp_model.pkl', 'rb'))\n",
    "vectorizer = pickle.load(open('tranform.pkl','rb'))"
   ]
  },
  {
   "cell_type": "code",
   "execution_count": 6,
   "metadata": {},
   "outputs": [],
   "source": [
    "# function to create the similarity matrix\n",
    "def create_similarity():\n",
    "    data = pd.read_csv('main_data.csv')\n",
    "    # creating a count matrix\n",
    "    cv = CountVectorizer()\n",
    "    count_matrix = cv.fit_transform(data['comb'])\n",
    "    # creating a similarity score matrix\n",
    "    similarity = cosine_similarity(count_matrix)\n",
    "    return data,similarity"
   ]
  },
  {
   "cell_type": "code",
   "execution_count": 1,
   "metadata": {},
   "outputs": [],
   "source": [
    "# function to create recommendation\n",
    "def find_similar_movies(movie):\n",
    "    movie = movie.lower()\n",
    "    # check if data and similarity are already assigned\n",
    "    try:\n",
    "        data.head()\n",
    "        similarity.shape\n",
    "    except:\n",
    "        data, similarity = create_similarity()\n",
    "    # check if the movie is in our database or not\n",
    "    if movie not in data['movie_title'].unique():\n",
    "        return ('Sorry! The movie you requested is not in our database. Please check the spelling or try with some other movies')\n",
    "    else:\n",
    "        # getting the index of the movie in the dataframe\n",
    "        i = data.loc[data['movie_title'] == movie].index[0]\n",
    "\n",
    "        # fetching the row containing similarity scores of the movie from similarity matrix and enumerate it\n",
    "        similarity_list = list(enumerate(similarity[i]))\n",
    "\n",
    "        # sorting this list in decreasing order based on the similarity score\n",
    "        sorted_similarity = sorted(similarity_list, key = lambda x:x[1] ,reverse=True)\n",
    "\n",
    "        # taking top 10 movie scores, not taking the first index since it is the same movie\n",
    "        sorted_similarity = sorted_similarity[1:11]\n",
    "\n",
    "        # making an empty list that will containg all 10 movie recommendations\n",
    "        recommended_list = []\n",
    "        for i in range(len(sorted_similarity)):\n",
    "            a = sorted_similarity[i][0]\n",
    "            recommended_list.append(data['movie_title'][a])\n",
    "        \n",
    "        return recommended_list"
   ]
  },
  {
   "cell_type": "code",
   "execution_count": 2,
   "metadata": {},
   "outputs": [],
   "source": [
    "# converting list of string to list (eg. \"[\"abc\",\"def\"]\" to [\"abc\",\"def\"])\n",
    "def convert_to_list(my_list):\n",
    "    my_list = my_list.split('\",\"')\n",
    "    my_list[0] = my_list[0].replace('[\"','')\n",
    "    my_list[-1] = my_list[-1].replace('\"]','')\n",
    "    return my_list"
   ]
  },
  {
   "cell_type": "code",
   "execution_count": null,
   "metadata": {},
   "outputs": [],
   "source": []
  }
 ],
 "metadata": {
  "kernelspec": {
   "display_name": "Python 3",
   "language": "python",
   "name": "python3"
  },
  "language_info": {
   "codemirror_mode": {
    "name": "ipython",
    "version": 3
   },
   "file_extension": ".py",
   "mimetype": "text/x-python",
   "name": "python",
   "nbconvert_exporter": "python",
   "pygments_lexer": "ipython3",
   "version": "3.10.4"
  },
  "orig_nbformat": 4
 },
 "nbformat": 4,
 "nbformat_minor": 2
}
